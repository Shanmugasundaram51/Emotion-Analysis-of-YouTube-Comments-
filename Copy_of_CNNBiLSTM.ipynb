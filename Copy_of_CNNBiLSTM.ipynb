{
  "cells": [
    {
      "cell_type": "code",
      "execution_count": null,
      "metadata": {
        "id": "B8JY_xcCmnbG"
      },
      "outputs": [],
      "source": [
        "import re # regex\n",
        "import sklearn\n",
        "import pandas as pd # tables\n",
        "import matplotlib.pyplot as plt # plots\n",
        "import seaborn as sns # plots\n",
        "import numpy as np # operations with arrays and matrices\n",
        "from sklearn.model_selection import train_test_split"
      ]
    },
    {
      "cell_type": "code",
      "execution_count": null,
      "metadata": {
        "colab": {
          "base_uri": "https://localhost:8080/",
          "height": 53
        },
        "id": "DPkOalcVM3d1",
        "outputId": "ba489b13-9f21-4b4d-8e1f-3ba9dd1f0881"
      },
      "outputs": [
        {
          "data": {
            "application/vnd.google.colaboratory.intrinsic+json": {
              "type": "string"
            },
            "text/plain": [
              "\"train = pd.read_csv('train.txt', header=None, sep=';', names=['Lines','Emotions'], encoding='utf-8')\\ntest = pd.read_csv('test.txt', header=None, sep =';', names=['Lines','Emotions'], encoding='utf-8')\\nvalidation = pd.read_csv('val.txt', header=None, sep=';', names=['Lines','Emotions'], encoding='utf-8')\""
            ]
          },
          "execution_count": 2,
          "metadata": {},
          "output_type": "execute_result"
        }
      ],
      "source": [
        "# reading the dataset\n",
        "'''train = pd.read_csv('train.txt', header=None, sep=';', names=['Lines','Emotions'], encoding='utf-8')\n",
        "test = pd.read_csv('test.txt', header=None, sep =';', names=['Lines','Emotions'], encoding='utf-8')\n",
        "validation = pd.read_csv('val.txt', header=None, sep=';', names=['Lines','Emotions'], encoding='utf-8')'''"
      ]
    },
    {
      "cell_type": "markdown",
      "metadata": {
        "id": "RG0aPh9dtzSi"
      },
      "source": [
        "K-FOLD CROSS VALIDATION\n"
      ]
    },
    {
      "cell_type": "code",
      "execution_count": null,
      "metadata": {
        "colab": {
          "base_uri": "https://localhost:8080/"
        },
        "id": "zQ4ZaukMiY-_",
        "outputId": "7d46ff85-6c17-49f4-89e7-a253fc4ef2ca"
      },
      "outputs": [
        {
          "name": "stderr",
          "output_type": "stream",
          "text": [
            "<ipython-input-3-34b9baee02cb>:34: SettingWithCopyWarning: \n",
            "A value is trying to be set on a copy of a slice from a DataFrame.\n",
            "Try using .loc[row_indexer,col_indexer] = value instead\n",
            "\n",
            "See the caveats in the documentation: https://pandas.pydata.org/pandas-docs/stable/user_guide/indexing.html#returning-a-view-versus-a-copy\n",
            "  fold_test_data['Labels'] = fold_test_data['Emotions'].replace(emotions_to_labels)\n",
            "<ipython-input-3-34b9baee02cb>:34: SettingWithCopyWarning: \n",
            "A value is trying to be set on a copy of a slice from a DataFrame.\n",
            "Try using .loc[row_indexer,col_indexer] = value instead\n",
            "\n",
            "See the caveats in the documentation: https://pandas.pydata.org/pandas-docs/stable/user_guide/indexing.html#returning-a-view-versus-a-copy\n",
            "  fold_test_data['Labels'] = fold_test_data['Emotions'].replace(emotions_to_labels)\n",
            "<ipython-input-3-34b9baee02cb>:34: SettingWithCopyWarning: \n",
            "A value is trying to be set on a copy of a slice from a DataFrame.\n",
            "Try using .loc[row_indexer,col_indexer] = value instead\n",
            "\n",
            "See the caveats in the documentation: https://pandas.pydata.org/pandas-docs/stable/user_guide/indexing.html#returning-a-view-versus-a-copy\n",
            "  fold_test_data['Labels'] = fold_test_data['Emotions'].replace(emotions_to_labels)\n",
            "<ipython-input-3-34b9baee02cb>:34: SettingWithCopyWarning: \n",
            "A value is trying to be set on a copy of a slice from a DataFrame.\n",
            "Try using .loc[row_indexer,col_indexer] = value instead\n",
            "\n",
            "See the caveats in the documentation: https://pandas.pydata.org/pandas-docs/stable/user_guide/indexing.html#returning-a-view-versus-a-copy\n",
            "  fold_test_data['Labels'] = fold_test_data['Emotions'].replace(emotions_to_labels)\n",
            "<ipython-input-3-34b9baee02cb>:34: SettingWithCopyWarning: \n",
            "A value is trying to be set on a copy of a slice from a DataFrame.\n",
            "Try using .loc[row_indexer,col_indexer] = value instead\n",
            "\n",
            "See the caveats in the documentation: https://pandas.pydata.org/pandas-docs/stable/user_guide/indexing.html#returning-a-view-versus-a-copy\n",
            "  fold_test_data['Labels'] = fold_test_data['Emotions'].replace(emotions_to_labels)\n"
          ]
        }
      ],
      "source": [
        "import pandas as pd\n",
        "from sklearn.model_selection import StratifiedKFold\n",
        "\n",
        "# Define the emotions-to-labels mapping\n",
        "emotions_to_labels = {'anger': 0, 'love': 1, 'fear': 2, 'joy': 3, 'sadness': 4,'surprise': 5}\n",
        "\n",
        "# Read the data from the single CSV file\n",
        "data = pd.read_csv('data.txt', header=None, sep=';', names=['Lines','Emotions'], encoding='utf-8')\n",
        "\n",
        "# Shuffle the data randomly\n",
        "data = data.sample(frac=1, random_state=42).reset_index(drop=True)\n",
        "\n",
        "# Define the number of folds (e.g., 5-fold cross-validation)\n",
        "num_folds = 5\n",
        "skf = StratifiedKFold(n_splits=num_folds, shuffle=True, random_state=42)\n",
        "\n",
        "# Initialize empty DataFrames for train, test, and validation\n",
        "train_data = pd.DataFrame(columns=['Emotions', 'Lines', 'Labels'])\n",
        "test_data = pd.DataFrame(columns=['Emotions', 'Lines', 'Labels'])\n",
        "validation_data = pd.DataFrame(columns=['Emotions', 'Lines', 'Labels'])\n",
        "\n",
        "# Iterate through the folds\n",
        "for train_index, test_index in skf.split(data['Lines'], data['Emotions']):\n",
        "    fold_train_data = data.iloc[train_index]\n",
        "    fold_test_data = data.iloc[test_index]\n",
        "\n",
        "    # Split the fold_train_data into train and validation sets (e.g., 80-20 split)\n",
        "    fold_train_size = int(len(fold_train_data) * 0.8)\n",
        "    fold_validation_data = fold_train_data.iloc[fold_train_size:]\n",
        "    fold_train_data = fold_train_data.iloc[:fold_train_size]\n",
        "\n",
        "    # Map emotions to labels for each fold\n",
        "    fold_train_data['Labels'] = fold_train_data['Emotions'].replace(emotions_to_labels)\n",
        "    fold_test_data['Labels'] = fold_test_data['Emotions'].replace(emotions_to_labels)\n",
        "    fold_validation_data['Labels'] = fold_validation_data['Emotions'].replace(emotions_to_labels)\n",
        "\n",
        "    # Concatenate fold data to the respective DataFrames\n",
        "    train_data = pd.concat([train_data, fold_train_data], ignore_index=True)\n",
        "    test_data = pd.concat([test_data, fold_test_data], ignore_index=True)\n",
        "    validation_data = pd.concat([validation_data, fold_validation_data], ignore_index=True)\n",
        "\n",
        "# Now, you have train_data, test_data, and validation_data as pandas DataFrames'''\n"
      ]
    },
    {
      "cell_type": "code",
      "execution_count": null,
      "metadata": {
        "colab": {
          "base_uri": "https://localhost:8080/",
          "height": 363
        },
        "id": "dnqgep6hu3Be",
        "outputId": "854726e9-a1a6-4757-c511-78d94f42c4c0"
      },
      "outputs": [
        {
          "data": {
            "text/html": [
              "\n",
              "  <div id=\"df-c32375e5-f64d-470e-ae2d-0aeed13e3ae4\" class=\"colab-df-container\">\n",
              "    <div>\n",
              "<style scoped>\n",
              "    .dataframe tbody tr th:only-of-type {\n",
              "        vertical-align: middle;\n",
              "    }\n",
              "\n",
              "    .dataframe tbody tr th {\n",
              "        vertical-align: top;\n",
              "    }\n",
              "\n",
              "    .dataframe thead th {\n",
              "        text-align: right;\n",
              "    }\n",
              "</style>\n",
              "<table border=\"1\" class=\"dataframe\">\n",
              "  <thead>\n",
              "    <tr style=\"text-align: right;\">\n",
              "      <th></th>\n",
              "      <th>Lines</th>\n",
              "      <th>Emotions</th>\n",
              "    </tr>\n",
              "  </thead>\n",
              "  <tbody>\n",
              "    <tr>\n",
              "      <th>0</th>\n",
              "      <td>i feel assured that foods that are grown organ...</td>\n",
              "      <td>joy</td>\n",
              "    </tr>\n",
              "    <tr>\n",
              "      <th>1</th>\n",
              "      <td>i already have my christmas trees up i got two...</td>\n",
              "      <td>joy</td>\n",
              "    </tr>\n",
              "    <tr>\n",
              "      <th>2</th>\n",
              "      <td>i feel all betrayed and disillusioned</td>\n",
              "      <td>sadness</td>\n",
              "    </tr>\n",
              "    <tr>\n",
              "      <th>3</th>\n",
              "      <td>i will tell you that i am feeling quite invigo...</td>\n",
              "      <td>joy</td>\n",
              "    </tr>\n",
              "    <tr>\n",
              "      <th>4</th>\n",
              "      <td>i start to feel less exhausted the bits and pi...</td>\n",
              "      <td>sadness</td>\n",
              "    </tr>\n",
              "    <tr>\n",
              "      <th>5</th>\n",
              "      <td>i was listening to belle and sebastian feeling...</td>\n",
              "      <td>fear</td>\n",
              "    </tr>\n",
              "    <tr>\n",
              "      <th>6</th>\n",
              "      <td>i be able to look them in the face again witho...</td>\n",
              "      <td>sadness</td>\n",
              "    </tr>\n",
              "    <tr>\n",
              "      <th>7</th>\n",
              "      <td>i am thankful for feeling useful</td>\n",
              "      <td>joy</td>\n",
              "    </tr>\n",
              "    <tr>\n",
              "      <th>8</th>\n",
              "      <td>i woke up feeling artistic ish</td>\n",
              "      <td>joy</td>\n",
              "    </tr>\n",
              "    <tr>\n",
              "      <th>9</th>\n",
              "      <td>i was taunted by the ability of feeling threat...</td>\n",
              "      <td>fear</td>\n",
              "    </tr>\n",
              "  </tbody>\n",
              "</table>\n",
              "</div>\n",
              "    <div class=\"colab-df-buttons\">\n",
              "\n",
              "  <div class=\"colab-df-container\">\n",
              "    <button class=\"colab-df-convert\" onclick=\"convertToInteractive('df-c32375e5-f64d-470e-ae2d-0aeed13e3ae4')\"\n",
              "            title=\"Convert this dataframe to an interactive table.\"\n",
              "            style=\"display:none;\">\n",
              "\n",
              "  <svg xmlns=\"http://www.w3.org/2000/svg\" height=\"24px\" viewBox=\"0 -960 960 960\">\n",
              "    <path d=\"M120-120v-720h720v720H120Zm60-500h600v-160H180v160Zm220 220h160v-160H400v160Zm0 220h160v-160H400v160ZM180-400h160v-160H180v160Zm440 0h160v-160H620v160ZM180-180h160v-160H180v160Zm440 0h160v-160H620v160Z\"/>\n",
              "  </svg>\n",
              "    </button>\n",
              "\n",
              "  <style>\n",
              "    .colab-df-container {\n",
              "      display:flex;\n",
              "      gap: 12px;\n",
              "    }\n",
              "\n",
              "    .colab-df-convert {\n",
              "      background-color: #E8F0FE;\n",
              "      border: none;\n",
              "      border-radius: 50%;\n",
              "      cursor: pointer;\n",
              "      display: none;\n",
              "      fill: #1967D2;\n",
              "      height: 32px;\n",
              "      padding: 0 0 0 0;\n",
              "      width: 32px;\n",
              "    }\n",
              "\n",
              "    .colab-df-convert:hover {\n",
              "      background-color: #E2EBFA;\n",
              "      box-shadow: 0px 1px 2px rgba(60, 64, 67, 0.3), 0px 1px 3px 1px rgba(60, 64, 67, 0.15);\n",
              "      fill: #174EA6;\n",
              "    }\n",
              "\n",
              "    .colab-df-buttons div {\n",
              "      margin-bottom: 4px;\n",
              "    }\n",
              "\n",
              "    [theme=dark] .colab-df-convert {\n",
              "      background-color: #3B4455;\n",
              "      fill: #D2E3FC;\n",
              "    }\n",
              "\n",
              "    [theme=dark] .colab-df-convert:hover {\n",
              "      background-color: #434B5C;\n",
              "      box-shadow: 0px 1px 3px 1px rgba(0, 0, 0, 0.15);\n",
              "      filter: drop-shadow(0px 1px 2px rgba(0, 0, 0, 0.3));\n",
              "      fill: #FFFFFF;\n",
              "    }\n",
              "  </style>\n",
              "\n",
              "    <script>\n",
              "      const buttonEl =\n",
              "        document.querySelector('#df-c32375e5-f64d-470e-ae2d-0aeed13e3ae4 button.colab-df-convert');\n",
              "      buttonEl.style.display =\n",
              "        google.colab.kernel.accessAllowed ? 'block' : 'none';\n",
              "\n",
              "      async function convertToInteractive(key) {\n",
              "        const element = document.querySelector('#df-c32375e5-f64d-470e-ae2d-0aeed13e3ae4');\n",
              "        const dataTable =\n",
              "          await google.colab.kernel.invokeFunction('convertToInteractive',\n",
              "                                                    [key], {});\n",
              "        if (!dataTable) return;\n",
              "\n",
              "        const docLinkHtml = 'Like what you see? Visit the ' +\n",
              "          '<a target=\"_blank\" href=https://colab.research.google.com/notebooks/data_table.ipynb>data table notebook</a>'\n",
              "          + ' to learn more about interactive tables.';\n",
              "        element.innerHTML = '';\n",
              "        dataTable['output_type'] = 'display_data';\n",
              "        await google.colab.output.renderOutput(dataTable, element);\n",
              "        const docLink = document.createElement('div');\n",
              "        docLink.innerHTML = docLinkHtml;\n",
              "        element.appendChild(docLink);\n",
              "      }\n",
              "    </script>\n",
              "  </div>\n",
              "\n",
              "\n",
              "<div id=\"df-2e5ac3a4-f842-4bbf-be1d-dd88e50216f6\">\n",
              "  <button class=\"colab-df-quickchart\" onclick=\"quickchart('df-2e5ac3a4-f842-4bbf-be1d-dd88e50216f6')\"\n",
              "            title=\"Suggest charts.\"\n",
              "            style=\"display:none;\">\n",
              "\n",
              "<svg xmlns=\"http://www.w3.org/2000/svg\" height=\"24px\"viewBox=\"0 0 24 24\"\n",
              "     width=\"24px\">\n",
              "    <g>\n",
              "        <path d=\"M19 3H5c-1.1 0-2 .9-2 2v14c0 1.1.9 2 2 2h14c1.1 0 2-.9 2-2V5c0-1.1-.9-2-2-2zM9 17H7v-7h2v7zm4 0h-2V7h2v10zm4 0h-2v-4h2v4z\"/>\n",
              "    </g>\n",
              "</svg>\n",
              "  </button>\n",
              "\n",
              "<style>\n",
              "  .colab-df-quickchart {\n",
              "      --bg-color: #E8F0FE;\n",
              "      --fill-color: #1967D2;\n",
              "      --hover-bg-color: #E2EBFA;\n",
              "      --hover-fill-color: #174EA6;\n",
              "      --disabled-fill-color: #AAA;\n",
              "      --disabled-bg-color: #DDD;\n",
              "  }\n",
              "\n",
              "  [theme=dark] .colab-df-quickchart {\n",
              "      --bg-color: #3B4455;\n",
              "      --fill-color: #D2E3FC;\n",
              "      --hover-bg-color: #434B5C;\n",
              "      --hover-fill-color: #FFFFFF;\n",
              "      --disabled-bg-color: #3B4455;\n",
              "      --disabled-fill-color: #666;\n",
              "  }\n",
              "\n",
              "  .colab-df-quickchart {\n",
              "    background-color: var(--bg-color);\n",
              "    border: none;\n",
              "    border-radius: 50%;\n",
              "    cursor: pointer;\n",
              "    display: none;\n",
              "    fill: var(--fill-color);\n",
              "    height: 32px;\n",
              "    padding: 0;\n",
              "    width: 32px;\n",
              "  }\n",
              "\n",
              "  .colab-df-quickchart:hover {\n",
              "    background-color: var(--hover-bg-color);\n",
              "    box-shadow: 0 1px 2px rgba(60, 64, 67, 0.3), 0 1px 3px 1px rgba(60, 64, 67, 0.15);\n",
              "    fill: var(--button-hover-fill-color);\n",
              "  }\n",
              "\n",
              "  .colab-df-quickchart-complete:disabled,\n",
              "  .colab-df-quickchart-complete:disabled:hover {\n",
              "    background-color: var(--disabled-bg-color);\n",
              "    fill: var(--disabled-fill-color);\n",
              "    box-shadow: none;\n",
              "  }\n",
              "\n",
              "  .colab-df-spinner {\n",
              "    border: 2px solid var(--fill-color);\n",
              "    border-color: transparent;\n",
              "    border-bottom-color: var(--fill-color);\n",
              "    animation:\n",
              "      spin 1s steps(1) infinite;\n",
              "  }\n",
              "\n",
              "  @keyframes spin {\n",
              "    0% {\n",
              "      border-color: transparent;\n",
              "      border-bottom-color: var(--fill-color);\n",
              "      border-left-color: var(--fill-color);\n",
              "    }\n",
              "    20% {\n",
              "      border-color: transparent;\n",
              "      border-left-color: var(--fill-color);\n",
              "      border-top-color: var(--fill-color);\n",
              "    }\n",
              "    30% {\n",
              "      border-color: transparent;\n",
              "      border-left-color: var(--fill-color);\n",
              "      border-top-color: var(--fill-color);\n",
              "      border-right-color: var(--fill-color);\n",
              "    }\n",
              "    40% {\n",
              "      border-color: transparent;\n",
              "      border-right-color: var(--fill-color);\n",
              "      border-top-color: var(--fill-color);\n",
              "    }\n",
              "    60% {\n",
              "      border-color: transparent;\n",
              "      border-right-color: var(--fill-color);\n",
              "    }\n",
              "    80% {\n",
              "      border-color: transparent;\n",
              "      border-right-color: var(--fill-color);\n",
              "      border-bottom-color: var(--fill-color);\n",
              "    }\n",
              "    90% {\n",
              "      border-color: transparent;\n",
              "      border-bottom-color: var(--fill-color);\n",
              "    }\n",
              "  }\n",
              "</style>\n",
              "\n",
              "  <script>\n",
              "    async function quickchart(key) {\n",
              "      const quickchartButtonEl =\n",
              "        document.querySelector('#' + key + ' button');\n",
              "      quickchartButtonEl.disabled = true;  // To prevent multiple clicks.\n",
              "      quickchartButtonEl.classList.add('colab-df-spinner');\n",
              "      try {\n",
              "        const charts = await google.colab.kernel.invokeFunction(\n",
              "            'suggestCharts', [key], {});\n",
              "      } catch (error) {\n",
              "        console.error('Error during call to suggestCharts:', error);\n",
              "      }\n",
              "      quickchartButtonEl.classList.remove('colab-df-spinner');\n",
              "      quickchartButtonEl.classList.add('colab-df-quickchart-complete');\n",
              "    }\n",
              "    (() => {\n",
              "      let quickchartButtonEl =\n",
              "        document.querySelector('#df-2e5ac3a4-f842-4bbf-be1d-dd88e50216f6 button');\n",
              "      quickchartButtonEl.style.display =\n",
              "        google.colab.kernel.accessAllowed ? 'block' : 'none';\n",
              "    })();\n",
              "  </script>\n",
              "</div>\n",
              "    </div>\n",
              "  </div>\n"
            ],
            "text/plain": [
              "                                               Lines Emotions\n",
              "0  i feel assured that foods that are grown organ...      joy\n",
              "1  i already have my christmas trees up i got two...      joy\n",
              "2              i feel all betrayed and disillusioned  sadness\n",
              "3  i will tell you that i am feeling quite invigo...      joy\n",
              "4  i start to feel less exhausted the bits and pi...  sadness\n",
              "5  i was listening to belle and sebastian feeling...     fear\n",
              "6  i be able to look them in the face again witho...  sadness\n",
              "7                   i am thankful for feeling useful      joy\n",
              "8                     i woke up feeling artistic ish      joy\n",
              "9  i was taunted by the ability of feeling threat...     fear"
            ]
          },
          "execution_count": 4,
          "metadata": {},
          "output_type": "execute_result"
        }
      ],
      "source": [
        "data.head(10)"
      ]
    },
    {
      "cell_type": "code",
      "execution_count": null,
      "metadata": {
        "id": "ZWqeEZvwjcty"
      },
      "outputs": [],
      "source": [
        "# After concatenating the data, rename the DataFrames\n",
        "train = train_data\n",
        "test = test_data\n",
        "validation = validation_data\n",
        "\n",
        "# Now, you have train, test, and validation as pandas DataFrames\n"
      ]
    },
    {
      "cell_type": "code",
      "execution_count": null,
      "metadata": {
        "id": "xFK-hN5QN9X6"
      },
      "outputs": [],
      "source": [
        "# adding a column with encoded emotions\n",
        "emotions_to_labels = {'anger': 0, 'love': 1, 'fear': 2, 'joy': 3, 'sadness': 4,'surprise': 5}\n",
        "labels_to_emotions = {j:i for i,j in emotions_to_labels.items()}\n",
        "\n",
        "train['Labels'] = train['Emotions'].replace(emotions_to_labels)\n",
        "test['Labels'] = test['Emotions'].replace(emotions_to_labels)\n",
        "validation['Labels'] = validation['Emotions'].replace(emotions_to_labels)"
      ]
    },
    {
      "cell_type": "code",
      "execution_count": null,
      "metadata": {
        "colab": {
          "base_uri": "https://localhost:8080/",
          "height": 70
        },
        "id": "KJkZzoF0jd42",
        "outputId": "76bed44b-0bed-4bea-a4dd-69db1b399b8d"
      },
      "outputs": [
        {
          "data": {
            "application/vnd.google.colaboratory.intrinsic+json": {
              "type": "string"
            },
            "text/plain": [
              "\"\\nemotions_to_labels = {'anger': 0, 'love': 1, 'fear': 2, 'joy': 3, 'sadness': 4,'surprise': 5}\\nlabels_to_emotions = {j:i for i,j in emotions_to_labels.items()}\\n\\ntrain['Labels'] = train['Emotions'].replace(emotions_to_labels)\\ntest['Labels'] = test['Emotions'].replace(emotions_to_labels)\\nvalidation['Labels'] = validation['Emotions'].replace(emotions_to_labels)\""
            ]
          },
          "execution_count": 7,
          "metadata": {},
          "output_type": "execute_result"
        }
      ],
      "source": [
        "# adding a column with encoded emotions\n",
        "labels_to_emotions = {j:i for i,j in emotions_to_labels.items()}\n",
        "emotions_to_labels = {'anger': 0, 'love': 1, 'fear': 2, 'joy': 3, 'sadness': 4,'surprise': 5}\n",
        "train['Labels'] = train['Emotions'].replace(emotions_to_labels)\n",
        "test['Labels'] = test['Emotions'].replace(emotions_to_labels)\n",
        "validation['Labels'] = validation['Emotions'].replace(emotions_to_labels)\n",
        "'''\n",
        "emotions_to_labels = {'anger': 0, 'love': 1, 'fear': 2, 'joy': 3, 'sadness': 4,'surprise': 5}\n",
        "labels_to_emotions = {j:i for i,j in emotions_to_labels.items()}\n",
        "\n",
        "train['Labels'] = train['Emotions'].replace(emotions_to_labels)\n",
        "test['Labels'] = test['Emotions'].replace(emotions_to_labels)\n",
        "validation['Labels'] = validation['Emotions'].replace(emotions_to_labels)'''"
      ]
    },
    {
      "cell_type": "code",
      "execution_count": null,
      "metadata": {
        "colab": {
          "base_uri": "https://localhost:8080/",
          "height": 206
        },
        "id": "x7RBfLYkmnbI",
        "outputId": "b45787b4-e6ff-4951-8871-3c7bc21e6506"
      },
      "outputs": [
        {
          "data": {
            "text/html": [
              "\n",
              "  <div id=\"df-09cfb1c7-9ebe-4fa6-a510-ee07db66467b\" class=\"colab-df-container\">\n",
              "    <div>\n",
              "<style scoped>\n",
              "    .dataframe tbody tr th:only-of-type {\n",
              "        vertical-align: middle;\n",
              "    }\n",
              "\n",
              "    .dataframe tbody tr th {\n",
              "        vertical-align: top;\n",
              "    }\n",
              "\n",
              "    .dataframe thead th {\n",
              "        text-align: right;\n",
              "    }\n",
              "</style>\n",
              "<table border=\"1\" class=\"dataframe\">\n",
              "  <thead>\n",
              "    <tr style=\"text-align: right;\">\n",
              "      <th></th>\n",
              "      <th>Emotions</th>\n",
              "      <th>Lines</th>\n",
              "      <th>Labels</th>\n",
              "    </tr>\n",
              "  </thead>\n",
              "  <tbody>\n",
              "    <tr>\n",
              "      <th>0</th>\n",
              "      <td>joy</td>\n",
              "      <td>i feel assured that foods that are grown organ...</td>\n",
              "      <td>3</td>\n",
              "    </tr>\n",
              "    <tr>\n",
              "      <th>1</th>\n",
              "      <td>joy</td>\n",
              "      <td>i already have my christmas trees up i got two...</td>\n",
              "      <td>3</td>\n",
              "    </tr>\n",
              "    <tr>\n",
              "      <th>2</th>\n",
              "      <td>sadness</td>\n",
              "      <td>i feel all betrayed and disillusioned</td>\n",
              "      <td>4</td>\n",
              "    </tr>\n",
              "    <tr>\n",
              "      <th>3</th>\n",
              "      <td>joy</td>\n",
              "      <td>i will tell you that i am feeling quite invigo...</td>\n",
              "      <td>3</td>\n",
              "    </tr>\n",
              "    <tr>\n",
              "      <th>4</th>\n",
              "      <td>fear</td>\n",
              "      <td>i was listening to belle and sebastian feeling...</td>\n",
              "      <td>2</td>\n",
              "    </tr>\n",
              "  </tbody>\n",
              "</table>\n",
              "</div>\n",
              "    <div class=\"colab-df-buttons\">\n",
              "\n",
              "  <div class=\"colab-df-container\">\n",
              "    <button class=\"colab-df-convert\" onclick=\"convertToInteractive('df-09cfb1c7-9ebe-4fa6-a510-ee07db66467b')\"\n",
              "            title=\"Convert this dataframe to an interactive table.\"\n",
              "            style=\"display:none;\">\n",
              "\n",
              "  <svg xmlns=\"http://www.w3.org/2000/svg\" height=\"24px\" viewBox=\"0 -960 960 960\">\n",
              "    <path d=\"M120-120v-720h720v720H120Zm60-500h600v-160H180v160Zm220 220h160v-160H400v160Zm0 220h160v-160H400v160ZM180-400h160v-160H180v160Zm440 0h160v-160H620v160ZM180-180h160v-160H180v160Zm440 0h160v-160H620v160Z\"/>\n",
              "  </svg>\n",
              "    </button>\n",
              "\n",
              "  <style>\n",
              "    .colab-df-container {\n",
              "      display:flex;\n",
              "      gap: 12px;\n",
              "    }\n",
              "\n",
              "    .colab-df-convert {\n",
              "      background-color: #E8F0FE;\n",
              "      border: none;\n",
              "      border-radius: 50%;\n",
              "      cursor: pointer;\n",
              "      display: none;\n",
              "      fill: #1967D2;\n",
              "      height: 32px;\n",
              "      padding: 0 0 0 0;\n",
              "      width: 32px;\n",
              "    }\n",
              "\n",
              "    .colab-df-convert:hover {\n",
              "      background-color: #E2EBFA;\n",
              "      box-shadow: 0px 1px 2px rgba(60, 64, 67, 0.3), 0px 1px 3px 1px rgba(60, 64, 67, 0.15);\n",
              "      fill: #174EA6;\n",
              "    }\n",
              "\n",
              "    .colab-df-buttons div {\n",
              "      margin-bottom: 4px;\n",
              "    }\n",
              "\n",
              "    [theme=dark] .colab-df-convert {\n",
              "      background-color: #3B4455;\n",
              "      fill: #D2E3FC;\n",
              "    }\n",
              "\n",
              "    [theme=dark] .colab-df-convert:hover {\n",
              "      background-color: #434B5C;\n",
              "      box-shadow: 0px 1px 3px 1px rgba(0, 0, 0, 0.15);\n",
              "      filter: drop-shadow(0px 1px 2px rgba(0, 0, 0, 0.3));\n",
              "      fill: #FFFFFF;\n",
              "    }\n",
              "  </style>\n",
              "\n",
              "    <script>\n",
              "      const buttonEl =\n",
              "        document.querySelector('#df-09cfb1c7-9ebe-4fa6-a510-ee07db66467b button.colab-df-convert');\n",
              "      buttonEl.style.display =\n",
              "        google.colab.kernel.accessAllowed ? 'block' : 'none';\n",
              "\n",
              "      async function convertToInteractive(key) {\n",
              "        const element = document.querySelector('#df-09cfb1c7-9ebe-4fa6-a510-ee07db66467b');\n",
              "        const dataTable =\n",
              "          await google.colab.kernel.invokeFunction('convertToInteractive',\n",
              "                                                    [key], {});\n",
              "        if (!dataTable) return;\n",
              "\n",
              "        const docLinkHtml = 'Like what you see? Visit the ' +\n",
              "          '<a target=\"_blank\" href=https://colab.research.google.com/notebooks/data_table.ipynb>data table notebook</a>'\n",
              "          + ' to learn more about interactive tables.';\n",
              "        element.innerHTML = '';\n",
              "        dataTable['output_type'] = 'display_data';\n",
              "        await google.colab.output.renderOutput(dataTable, element);\n",
              "        const docLink = document.createElement('div');\n",
              "        docLink.innerHTML = docLinkHtml;\n",
              "        element.appendChild(docLink);\n",
              "      }\n",
              "    </script>\n",
              "  </div>\n",
              "\n",
              "\n",
              "<div id=\"df-d4451e0e-850f-43d8-a938-2e42c5c10849\">\n",
              "  <button class=\"colab-df-quickchart\" onclick=\"quickchart('df-d4451e0e-850f-43d8-a938-2e42c5c10849')\"\n",
              "            title=\"Suggest charts.\"\n",
              "            style=\"display:none;\">\n",
              "\n",
              "<svg xmlns=\"http://www.w3.org/2000/svg\" height=\"24px\"viewBox=\"0 0 24 24\"\n",
              "     width=\"24px\">\n",
              "    <g>\n",
              "        <path d=\"M19 3H5c-1.1 0-2 .9-2 2v14c0 1.1.9 2 2 2h14c1.1 0 2-.9 2-2V5c0-1.1-.9-2-2-2zM9 17H7v-7h2v7zm4 0h-2V7h2v10zm4 0h-2v-4h2v4z\"/>\n",
              "    </g>\n",
              "</svg>\n",
              "  </button>\n",
              "\n",
              "<style>\n",
              "  .colab-df-quickchart {\n",
              "      --bg-color: #E8F0FE;\n",
              "      --fill-color: #1967D2;\n",
              "      --hover-bg-color: #E2EBFA;\n",
              "      --hover-fill-color: #174EA6;\n",
              "      --disabled-fill-color: #AAA;\n",
              "      --disabled-bg-color: #DDD;\n",
              "  }\n",
              "\n",
              "  [theme=dark] .colab-df-quickchart {\n",
              "      --bg-color: #3B4455;\n",
              "      --fill-color: #D2E3FC;\n",
              "      --hover-bg-color: #434B5C;\n",
              "      --hover-fill-color: #FFFFFF;\n",
              "      --disabled-bg-color: #3B4455;\n",
              "      --disabled-fill-color: #666;\n",
              "  }\n",
              "\n",
              "  .colab-df-quickchart {\n",
              "    background-color: var(--bg-color);\n",
              "    border: none;\n",
              "    border-radius: 50%;\n",
              "    cursor: pointer;\n",
              "    display: none;\n",
              "    fill: var(--fill-color);\n",
              "    height: 32px;\n",
              "    padding: 0;\n",
              "    width: 32px;\n",
              "  }\n",
              "\n",
              "  .colab-df-quickchart:hover {\n",
              "    background-color: var(--hover-bg-color);\n",
              "    box-shadow: 0 1px 2px rgba(60, 64, 67, 0.3), 0 1px 3px 1px rgba(60, 64, 67, 0.15);\n",
              "    fill: var(--button-hover-fill-color);\n",
              "  }\n",
              "\n",
              "  .colab-df-quickchart-complete:disabled,\n",
              "  .colab-df-quickchart-complete:disabled:hover {\n",
              "    background-color: var(--disabled-bg-color);\n",
              "    fill: var(--disabled-fill-color);\n",
              "    box-shadow: none;\n",
              "  }\n",
              "\n",
              "  .colab-df-spinner {\n",
              "    border: 2px solid var(--fill-color);\n",
              "    border-color: transparent;\n",
              "    border-bottom-color: var(--fill-color);\n",
              "    animation:\n",
              "      spin 1s steps(1) infinite;\n",
              "  }\n",
              "\n",
              "  @keyframes spin {\n",
              "    0% {\n",
              "      border-color: transparent;\n",
              "      border-bottom-color: var(--fill-color);\n",
              "      border-left-color: var(--fill-color);\n",
              "    }\n",
              "    20% {\n",
              "      border-color: transparent;\n",
              "      border-left-color: var(--fill-color);\n",
              "      border-top-color: var(--fill-color);\n",
              "    }\n",
              "    30% {\n",
              "      border-color: transparent;\n",
              "      border-left-color: var(--fill-color);\n",
              "      border-top-color: var(--fill-color);\n",
              "      border-right-color: var(--fill-color);\n",
              "    }\n",
              "    40% {\n",
              "      border-color: transparent;\n",
              "      border-right-color: var(--fill-color);\n",
              "      border-top-color: var(--fill-color);\n",
              "    }\n",
              "    60% {\n",
              "      border-color: transparent;\n",
              "      border-right-color: var(--fill-color);\n",
              "    }\n",
              "    80% {\n",
              "      border-color: transparent;\n",
              "      border-right-color: var(--fill-color);\n",
              "      border-bottom-color: var(--fill-color);\n",
              "    }\n",
              "    90% {\n",
              "      border-color: transparent;\n",
              "      border-bottom-color: var(--fill-color);\n",
              "    }\n",
              "  }\n",
              "</style>\n",
              "\n",
              "  <script>\n",
              "    async function quickchart(key) {\n",
              "      const quickchartButtonEl =\n",
              "        document.querySelector('#' + key + ' button');\n",
              "      quickchartButtonEl.disabled = true;  // To prevent multiple clicks.\n",
              "      quickchartButtonEl.classList.add('colab-df-spinner');\n",
              "      try {\n",
              "        const charts = await google.colab.kernel.invokeFunction(\n",
              "            'suggestCharts', [key], {});\n",
              "      } catch (error) {\n",
              "        console.error('Error during call to suggestCharts:', error);\n",
              "      }\n",
              "      quickchartButtonEl.classList.remove('colab-df-spinner');\n",
              "      quickchartButtonEl.classList.add('colab-df-quickchart-complete');\n",
              "    }\n",
              "    (() => {\n",
              "      let quickchartButtonEl =\n",
              "        document.querySelector('#df-d4451e0e-850f-43d8-a938-2e42c5c10849 button');\n",
              "      quickchartButtonEl.style.display =\n",
              "        google.colab.kernel.accessAllowed ? 'block' : 'none';\n",
              "    })();\n",
              "  </script>\n",
              "</div>\n",
              "    </div>\n",
              "  </div>\n"
            ],
            "text/plain": [
              "  Emotions                                              Lines  Labels\n",
              "0      joy  i feel assured that foods that are grown organ...       3\n",
              "1      joy  i already have my christmas trees up i got two...       3\n",
              "2  sadness              i feel all betrayed and disillusioned       4\n",
              "3      joy  i will tell you that i am feeling quite invigo...       3\n",
              "4     fear  i was listening to belle and sebastian feeling...       2"
            ]
          },
          "execution_count": 8,
          "metadata": {},
          "output_type": "execute_result"
        }
      ],
      "source": [
        "train.head()"
      ]
    },
    {
      "cell_type": "code",
      "execution_count": null,
      "metadata": {
        "id": "-L_VIzPaU92r"
      },
      "outputs": [],
      "source": [
        "def visualize_labels_distribution(df, title='the'):\n",
        "  '''\n",
        "  Accepts a dataframe with 'Emotions' column and dataset title (e.g. 'train')\n",
        "  Creates bar chart with num of elements of each category\n",
        "  Returns nothing\n",
        "\n",
        "  '''\n",
        "  # create a pandas series with labels and their counts\n",
        "  num_labels = df['Emotions'].value_counts()\n",
        "\n",
        "  # num of unique categories\n",
        "  x_barchart = range(df['Emotions'].nunique())\n",
        "  # list of labels\n",
        "  x_barchart_labels = [str(emotions_to_labels[emotion]) +\\\n",
        "                       ' - ' + emotion for emotion in list(num_labels.index)]\n",
        "\n",
        "  # list of counts\n",
        "  y_barchart = list(num_labels.values)\n",
        "\n",
        "  # creating bar chart\n",
        "  plt.figure(figsize = (5, 4))\n",
        "  plt.bar(x_barchart, y_barchart, color='#707bfb')\n",
        "\n",
        "  # adding num of elements for each category on plot as text\n",
        "  for index, data in enumerate(y_barchart):\n",
        "    plt.text(x = index,\n",
        "            y = data+max(y_barchart)/100,\n",
        "            s = '{}'.format(data),\n",
        "            fontdict = dict(fontsize=10),\n",
        "            ha = 'center',)\n",
        "\n",
        "  plt.xticks(x_barchart, x_barchart_labels, rotation=40)\n",
        "  plt.title('Num of elements of each category for {} dataset'.format(title))\n",
        "  plt.tight_layout()\n",
        "\n",
        "  print('There are {} records in the dataset.\\n'.format(len(df.index)))\n",
        "\n",
        "  plt.show()"
      ]
    },
    {
      "cell_type": "code",
      "execution_count": null,
      "metadata": {
        "colab": {
          "base_uri": "https://localhost:8080/",
          "height": 1000
        },
        "id": "fKlxnnNeU-9l",
        "outputId": "8ae43d74-0a61-4165-9dd1-a4623a9b679c"
      },
      "outputs": [
        {
          "name": "stdout",
          "output_type": "stream",
          "text": [
            "There are 64000 records in the dataset.\n",
            "\n"
          ]
        },
        {
          "data": {
            "image/png": "[encoded data removed]",
            "text/plain": [
              "<Figure size 500x400 with 1 Axes>"
            ]
          },
          "metadata": {},
          "output_type": "display_data"
        },
        {
          "name": "stdout",
          "output_type": "stream",
          "text": [
            "There are 20000 records in the dataset.\n",
            "\n"
          ]
        },
        {
          "data": {
            "image/png": "[encoded data removed]",
            "text/plain": [
              "<Figure size 500x400 with 1 Axes>"
            ]
          },
          "metadata": {},
          "output_type": "display_data"
        },
        {
          "name": "stdout",
          "output_type": "stream",
          "text": [
            "There are 16000 records in the dataset.\n",
            "\n"
          ]
        },
        {
          "data": {
            "image/png": "[encoded data removed]",
            "text/plain": [
              "<Figure size 500x400 with 1 Axes>"
            ]
          },
          "metadata": {},
          "output_type": "display_data"
        }
      ],
      "source": [
        "visualize_labels_distribution(train, 'train')\n",
        "visualize_labels_distribution(test, 'test')\n",
        "visualize_labels_distribution(validation, 'val')"
      ]
    },
    {
      "cell_type": "code",
      "execution_count": null,
      "metadata": {
        "colab": {
          "base_uri": "https://localhost:8080/"
        },
        "id": "xlZ7kXi9mnbJ",
        "outputId": "31b31e16-f9bd-4fb4-8184-74077148bb8c"
      },
      "outputs": [
        {
          "name": "stderr",
          "output_type": "stream",
          "text": [
            "[nltk_data] Downloading package punkt to /root/nltk_data...\n",
            "[nltk_data]   Unzipping tokenizers/punkt.zip.\n",
            "[nltk_data] Downloading package stopwords to /root/nltk_data...\n",
            "[nltk_data]   Unzipping corpora/stopwords.zip.\n"
          ]
        }
      ],
      "source": [
        "import nltk\n",
        "nltk.download('punkt')\n",
        "nltk.download('stopwords')\n",
        "from nltk.corpus import stopwords\n",
        "\n",
        "# downloading a set of stop-words\n",
        "STOPWORDS = set(stopwords.words('english'))\n",
        "\n",
        "# tokenizer\n",
        "from nltk.tokenize import word_tokenize"
      ]
    },
    {
      "cell_type": "code",
      "execution_count": null,
      "metadata": {
        "id": "3C1d9IyemnbJ"
      },
      "outputs": [],
      "source": [
        "def text_preprocess(text, stop_words=False):\n",
        "  '''\n",
        "  Accepts text (a single string) and\n",
        "  a parameters of preprocessing\n",
        "  Returns preprocessed text\n",
        "\n",
        "  '''\n",
        "  # clean text from non-words\n",
        "  text = re.sub(r'\\W+', ' ', text).lower()\n",
        "\n",
        "  # tokenize the text\n",
        "  tokens = word_tokenize(text)\n",
        "  if stop_words:\n",
        "    # delete stop_words\n",
        "    tokens = [token for token in tokens if token not in STOPWORDS]\n",
        "\n",
        "  return tokens"
      ]
    },
    {
      "cell_type": "code",
      "execution_count": null,
      "metadata": {
        "colab": {
          "base_uri": "https://localhost:8080/"
        },
        "id": "_erz_bEgmnbK",
        "outputId": "aebc9fdf-9fa2-4b15-b00f-d6e92256f81c"
      },
      "outputs": [
        {
          "name": "stdout",
          "output_type": "stream",
          "text": [
            "Before: \n",
            "  Emotions                                              Lines  Labels\n",
            "0      joy  i feel assured that foods that are grown organ...       3\n",
            "1      joy  i already have my christmas trees up i got two...       3\n",
            "2  sadness              i feel all betrayed and disillusioned       4\n",
            "3      joy  i will tell you that i am feeling quite invigo...       3\n",
            "4     fear  i was listening to belle and sebastian feeling...       2\n",
            "\n",
            "After:\n",
            "(['feel', 'assured', 'foods', 'grown', 'organic', 'free', 'pesticides', 'soil', 'water', 'contaminated', 'good', 'us'], 3)\n",
            "(['already', 'christmas', 'trees', 'got', 'two', 'feeling', 'festive', 'sure', 'spurring', 'get', 'started', 'book'], 3)\n",
            "(['feel', 'betrayed', 'disillusioned'], 4)\n",
            "(['tell', 'feeling', 'quite', 'invigorated'], 3)\n",
            "(['listening', 'belle', 'sebastian', 'feeling', 'agitated'], 2)\n"
          ]
        }
      ],
      "source": [
        "print('Before: ')\n",
        "print(train.head())\n",
        "\n",
        "x_train = [text_preprocess(t, stop_words=True) for t in train['Lines']]\n",
        "y_train = train['Labels'].values\n",
        "\n",
        "print('\\nAfter:')\n",
        "for line_and_label in list(zip(x_train[:5], y_train[:5])):\n",
        "  print(line_and_label)"
      ]
    },
    {
      "cell_type": "code",
      "execution_count": null,
      "metadata": {
        "id": "8IlBRv5UmnbK"
      },
      "outputs": [],
      "source": [
        "x_test = [text_preprocess(t, stop_words=True) for t in test['Lines']]\n",
        "y_test = test['Labels'].values\n",
        "\n",
        "x_validation = [text_preprocess(t, stop_words=True) for t in validation['Lines']]\n",
        "y_validation = validation['Labels'].values"
      ]
    },
    {
      "cell_type": "code",
      "execution_count": null,
      "metadata": {
        "id": "LCoflvlamnbM"
      },
      "outputs": [],
      "source": [
        "from tensorflow.keras.preprocessing.text import Tokenizer\n",
        "from tensorflow.keras.preprocessing.sequence import pad_sequences"
      ]
    },
    {
      "cell_type": "code",
      "execution_count": null,
      "metadata": {
        "id": "7plVxClLmnbN"
      },
      "outputs": [],
      "source": [
        "from gensim.models import Word2Vec\n",
        "model_w2v = Word2Vec(x_train + x_test + x_validation,vector_size=300,min_count = 2).wv"
      ]
    },
    {
      "cell_type": "code",
      "execution_count": null,
      "metadata": {
        "id": "i4gKmmSAmnbN"
      },
      "outputs": [],
      "source": [
        "def create_weight_matrix(model):\n",
        "  '''\n",
        "  Accepts word embedding model\n",
        "  and the second model, if provided\n",
        "  Returns weight matrix of size m*n, where\n",
        "  m - size of the dictionary\n",
        "  n - size of the word embedding vector\n",
        "\n",
        "  '''\n",
        "  vector_size = model.get_vector('like').shape[0]\n",
        "  w_matrix = np.zeros((DICT_SIZE, vector_size))\n",
        "  skipped_words = []\n",
        "\n",
        "  for word, index in tokenizer.word_index.items():\n",
        "    if index < DICT_SIZE:\n",
        "      if word in model.key_to_index:\n",
        "        w_matrix[index] = model.get_vector(word)\n",
        "      else:\n",
        "        skipped_words.append(word)\n",
        "\n",
        "  print(f'{len(skipped_words)} words were skipped. Some of them:')\n",
        "  print(skipped_words[:50])\n",
        "  return w_matrix\n"
      ]
    },
    {
      "cell_type": "code",
      "execution_count": null,
      "metadata": {
        "id": "XRWpMETamnbO"
      },
      "outputs": [],
      "source": [
        "DICT_SIZE = 15000\n",
        "tokenizer = Tokenizer(num_words=DICT_SIZE)\n",
        "total = x_train + x_test + x_validation\n",
        "tokenizer.fit_on_texts(total)\n",
        "\n",
        "x_train_max_len = max([len(i) for i in x_train])\n",
        "x_test_max_len = max([len(i) for i in x_test])\n",
        "x_validation_max_len = max([len(i) for i in x_validation])\n",
        "\n",
        "MAX_LEN = max(x_train_max_len, x_test_max_len, x_validation_max_len)\n",
        "\n",
        "X_train = tokenizer.texts_to_sequences(x_train)\n",
        "X_train_pad = pad_sequences(X_train, maxlen=MAX_LEN)\n",
        "\n",
        "X_test = tokenizer.texts_to_sequences(x_test)\n",
        "X_test_pad = pad_sequences(X_test, maxlen=MAX_LEN)\n",
        "\n",
        "X_val = tokenizer.texts_to_sequences(x_validation)\n",
        "X_val_pad = pad_sequences(X_val, maxlen=MAX_LEN)"
      ]
    },
    {
      "cell_type": "code",
      "execution_count": null,
      "metadata": {
        "colab": {
          "base_uri": "https://localhost:8080/"
        },
        "id": "T83dfyA-mnbO",
        "outputId": "d858a988-08cb-45d6-86ca-5f248eeb6869"
      },
      "outputs": [
        {
          "name": "stdout",
          "output_type": "stream",
          "text": [
            "0 words were skipped. Some of them:\n",
            "[]\n",
            "(15000, 300)\n",
            "[[ 0.00000000e+00  0.00000000e+00  0.00000000e+00 ...  0.00000000e+00\n",
            "   0.00000000e+00  0.00000000e+00]\n",
            " [-3.57592076e-01  2.01307133e-01  8.90038908e-01 ...  3.17263871e-01\n",
            "   5.21885693e-01 -1.12908848e-01]\n",
            " [-5.04709065e-01  5.83760440e-01 -1.24860801e-01 ... -7.67931163e-01\n",
            "   4.15220201e-01 -2.89378941e-01]\n",
            " ...\n",
            " [ 7.29754800e-03  7.27283135e-02 -1.26765613e-02 ...  4.64080507e-03\n",
            "   3.79920714e-02 -3.67742181e-02]\n",
            " [ 1.72545072e-02  7.07467720e-02  6.87437569e-05 ... -3.98777938e-03\n",
            "   4.36076149e-02 -3.11048143e-02]\n",
            " [ 1.28001012e-02  5.86696975e-02  1.21014938e-03 ... -5.77541720e-03\n",
            "   4.16312367e-02 -3.72826718e-02]]\n"
          ]
        }
      ],
      "source": [
        "DICT_SIZE = 15000\n",
        "weight_matrix = create_weight_matrix(model_w2v)\n",
        "print(weight_matrix.shape)\n",
        "print(weight_matrix)"
      ]
    },
    {
      "cell_type": "code",
      "execution_count": null,
      "metadata": {
        "id": "V_JsH1e5mnbO"
      },
      "outputs": [],
      "source": [
        "# import models, layers, optimizers from tensorflow\n",
        "from tensorflow.keras.models import Sequential, Model\n",
        "from tensorflow.keras.layers import Embedding, LSTM, Bidirectional, Dense, Dropout, GRU, Lambda, Input, Attention, Flatten\n",
        "from tensorflow.keras.optimizers import Adagrad"
      ]
    },
    {
      "cell_type": "markdown",
      "metadata": {
        "id": "R4-5YX88WL_y"
      },
      "source": [
        "BILSTM"
      ]
    },
    {
      "cell_type": "code",
      "execution_count": null,
      "metadata": {
        "colab": {
          "base_uri": "https://localhost:8080/"
        },
        "id": "fiIYafQHkNE5",
        "outputId": "3799daa2-ebe7-482e-fa8b-fadf706081ef"
      },
      "outputs": [
        {
          "name": "stdout",
          "output_type": "stream",
          "text": [
            "Model: \"sequential\"\n",
            "_________________________________________________________________\n",
            " Layer (type)                Output Shape              Param #   \n",
            "=================================================================\n",
            " embedding (Embedding)       (None, 35, 300)           4500000   \n",
            "                                                                 \n",
            " conv1d (Conv1D)             (None, 33, 32)            28832     \n",
            "                                                                 \n",
            " batch_normalization (Batch  (None, 33, 32)            128       \n",
            " Normalization)                                                  \n",
            "                                                                 \n",
            " conv1d_1 (Conv1D)           (None, 31, 32)            3104      \n",
            "                                                                 \n",
            " batch_normalization_1 (Bat  (None, 31, 32)            128       \n",
            " chNormalization)                                                \n",
            "                                                                 \n",
            " conv1d_2 (Conv1D)           (None, 16, 32)            5152      \n",
            "                                                                 \n",
            " batch_normalization_2 (Bat  (None, 16, 32)            128       \n",
            " chNormalization)                                                \n",
            "                                                                 \n",
            " dropout (Dropout)           (None, 16, 32)            0         \n",
            "                                                                 \n",
            " conv1d_3 (Conv1D)           (None, 14, 64)            6208      \n",
            "                                                                 \n",
            " batch_normalization_3 (Bat  (None, 14, 64)            256       \n",
            " chNormalization)                                                \n",
            "                                                                 \n",
            " conv1d_4 (Conv1D)           (None, 12, 64)            12352     \n",
            "                                                                 \n",
            " batch_normalization_4 (Bat  (None, 12, 64)            256       \n",
            " chNormalization)                                                \n",
            "                                                                 \n",
            " conv1d_5 (Conv1D)           (None, 6, 64)             20544     \n",
            "                                                                 \n",
            " batch_normalization_5 (Bat  (None, 6, 64)             256       \n",
            " chNormalization)                                                \n",
            "                                                                 \n",
            " dropout_1 (Dropout)         (None, 6, 64)             0         \n",
            "                                                                 \n",
            " conv1d_6 (Conv1D)           (None, 3, 128)            32896     \n",
            "                                                                 \n",
            " batch_normalization_6 (Bat  (None, 3, 128)            512       \n",
            " chNormalization)                                                \n",
            "                                                                 \n",
            " bidirectional (Bidirection  (None, 3, 256)            263168    \n",
            " al)                                                             \n",
            "                                                                 \n",
            " dropout_2 (Dropout)         (None, 3, 256)            0         \n",
            "                                                                 \n",
            " bidirectional_1 (Bidirecti  (None, 3, 512)            1050624   \n",
            " onal)                                                           \n",
            "                                                                 \n",
            " dropout_3 (Dropout)         (None, 3, 512)            0         \n",
            "                                                                 \n",
            " bidirectional_2 (Bidirecti  (None, 256)               656384    \n",
            " onal)                                                           \n",
            "                                                                 \n",
            " dense (Dense)               (None, 6)                 1542      \n",
            "                                                                 \n",
            "=================================================================\n",
            "Total params: 6582470 (25.11 MB)\n",
            "Trainable params: 2081638 (7.94 MB)\n",
            "Non-trainable params: 4500832 (17.17 MB)\n",
            "_________________________________________________________________\n"
          ]
        }
      ],
      "source": [
        "from keras.models import Sequential\n",
        "from keras.layers import Conv1D, BatchNormalization, Embedding, Dropout\n",
        "\n",
        "# Assuming you have defined DICT_SIZE, weight_matrix, X_train_pad\n",
        "\n",
        "input_shape = (X_train_pad.shape[1],)  # Input shape for 1D convolution\n",
        "vocab_size = 15000\n",
        "embedding_dim = 300\n",
        "sequence_length = MAX_LEN\n",
        "units = 64\n",
        "output_dim = 6\n",
        "model = Sequential()\n",
        "\n",
        "model.add(Embedding(input_dim=DICT_SIZE,\n",
        "                    output_dim=weight_matrix.shape[1],\n",
        "                    input_length=X_train_pad.shape[1],\n",
        "                    weights=[weight_matrix],\n",
        "                    trainable=False))\n",
        "\n",
        "model.add(Conv1D(32, kernel_size=3, activation='relu', input_shape=input_shape))\n",
        "model.add(BatchNormalization())\n",
        "model.add(Conv1D(32, kernel_size=3, activation='relu'))\n",
        "model.add(BatchNormalization())\n",
        "\n",
        "model.add(Conv1D(32, kernel_size=5, strides=2, padding='same', activation='relu'))\n",
        "model.add(BatchNormalization())\n",
        "model.add(Dropout(0.4))\n",
        "\n",
        "model.add(Conv1D(64, kernel_size=3, activation='relu'))\n",
        "model.add(BatchNormalization())\n",
        "model.add(Conv1D(64, kernel_size=3, activation='relu'))\n",
        "model.add(BatchNormalization())\n",
        "model.add(Conv1D(64, kernel_size=5, strides=2, padding='same', activation='relu'))\n",
        "model.add(BatchNormalization())\n",
        "model.add(Dropout(0.4))\n",
        "\n",
        "model.add(Conv1D(128, kernel_size=4, activation='relu'))\n",
        "model.add(BatchNormalization())\n",
        "model.add(Bidirectional(LSTM(128, return_sequences=True)))\n",
        "model.add(Dropout(0.2))\n",
        "model.add(Bidirectional(LSTM(256, return_sequences=True)))\n",
        "model.add(Dropout(0.2))\n",
        "model.add(Bidirectional(LSTM(128, return_sequences=False)))\n",
        "model.add(Dense(6, activation = 'softmax'))\n",
        "model.compile(loss='sparse_categorical_crossentropy', optimizer=Adagrad(learning_rate = 0.001), metrics=['accuracy'])\n",
        "model.summary()"
      ]
    },
    {
      "cell_type": "code",
      "execution_count": null,
      "metadata": {
        "colab": {
          "base_uri": "https://localhost:8080/",
          "height": 88
        },
        "id": "VYG31XR1mnbO",
        "outputId": "96732eae-79c7-4b24-ee6f-0558522a968c"
      },
      "outputs": [
        {
          "data": {
            "application/vnd.google.colaboratory.intrinsic+json": {
              "type": "string"
            },
            "text/plain": [
              "\"vocab_size = 15000\\nembedding_dim = 300\\nsequence_length = MAX_LEN\\nunits = 64\\noutput_dim = 6\\nmodel = Sequential()\\nmodel.add(Input(shape=(MAX_LEN,)))\\nmodel.add(Embedding(weight_matrix.shape[0], weight_matrix.shape[1], input_length=MAX_LEN, weights = [weight_matrix]))\\nmodel.add(Bidirectional(LSTM(128, return_sequences=True)))\\nmodel.add(Dropout(0.2))\\nmodel.add(Bidirectional(LSTM(256, return_sequences=True)))\\nmodel.add(Dropout(0.2))\\nmodel.add(Bidirectional(LSTM(128, return_sequences=False)))\\nmodel.add(Dense(6, activation='softmax'))\\nmodel.compile(loss='sparse_categorical_crossentropy', optimizer=Adam(learning_rate = 0.001), metrics='accuracy')\\nmodel.summary()\""
            ]
          },
          "execution_count": 22,
          "metadata": {},
          "output_type": "execute_result"
        }
      ],
      "source": [
        "'''vocab_size = 15000\n",
        "embedding_dim = 300\n",
        "sequence_length = MAX_LEN\n",
        "units = 64\n",
        "output_dim = 6\n",
        "model = Sequential()\n",
        "model.add(Input(shape=(MAX_LEN,)))\n",
        "model.add(Embedding(weight_matrix.shape[0], weight_matrix.shape[1], input_length=MAX_LEN, weights = [weight_matrix]))\n",
        "model.add(Bidirectional(LSTM(128, return_sequences=True)))\n",
        "model.add(Dropout(0.2))\n",
        "model.add(Bidirectional(LSTM(256, return_sequences=True)))\n",
        "model.add(Dropout(0.2))\n",
        "model.add(Bidirectional(LSTM(128, return_sequences=False)))\n",
        "model.add(Dense(6, activation='softmax'))\n",
        "model.compile(loss='sparse_categorical_crossentropy', optimizer=Adam(learning_rate = 0.001), metrics='accuracy')\n",
        "model.summary()'''"
      ]
    },
    {
      "cell_type": "code",
      "execution_count": null,
      "metadata": {
        "colab": {
          "background_save": true,
          "base_uri": "https://localhost:8080/"
        },
        "id": "DmPC__hPmnbP",
        "outputId": "2c8ae2fe-bebe-433b-f781-f0ac54819de0"
      },
      "outputs": [
        {
          "name": "stdout",
          "output_type": "stream",
          "text": [
            "Epoch 1/50\n",
            "2000/2000 [==============================] - 64s 20ms/step - loss: 2.6644 - accuracy: 0.2832 - val_loss: 1.7156 - val_accuracy: 0.3274\n",
            "Epoch 2/50\n",
            "2000/2000 [==============================] - 38s 19ms/step - loss: 1.8409 - accuracy: 0.3019 - val_loss: 1.6346 - val_accuracy: 0.3329\n",
            "Epoch 3/50\n",
            "2000/2000 [==============================] - 38s 19ms/step - loss: 1.7483 - accuracy: 0.3097 - val_loss: 1.6360 - val_accuracy: 0.3288\n",
            "Epoch 4/50\n",
            "2000/2000 [==============================] - 38s 19ms/step - loss: 1.7052 - accuracy: 0.3169 - val_loss: 1.6243 - val_accuracy: 0.3326\n",
            "Epoch 5/50\n",
            "2000/2000 [==============================] - 38s 19ms/step - loss: 1.6827 - accuracy: 0.3175 - val_loss: 1.6241 - val_accuracy: 0.3312\n",
            "Epoch 6/50\n",
            "2000/2000 [==============================] - 38s 19ms/step - loss: 1.6691 - accuracy: 0.3220 - val_loss: 1.6156 - val_accuracy: 0.3359\n",
            "Epoch 7/50\n",
            "2000/2000 [==============================] - 38s 19ms/step - loss: 1.6639 - accuracy: 0.3243 - val_loss: 1.6061 - val_accuracy: 0.3311\n",
            "Epoch 8/50\n",
            "2000/2000 [==============================] - 38s 19ms/step - loss: 1.6501 - accuracy: 0.3240 - val_loss: 1.6033 - val_accuracy: 0.3321\n",
            "Epoch 9/50\n",
            "2000/2000 [==============================] - 41s 21ms/step - loss: 1.6422 - accuracy: 0.3273 - val_loss: 1.6073 - val_accuracy: 0.3342\n",
            "Epoch 10/50\n",
            "2000/2000 [==============================] - 38s 19ms/step - loss: 1.6412 - accuracy: 0.3282 - val_loss: 1.5978 - val_accuracy: 0.3287\n",
            "Epoch 11/50\n",
            "2000/2000 [==============================] - 38s 19ms/step - loss: 1.6362 - accuracy: 0.3302 - val_loss: 1.5960 - val_accuracy: 0.3286\n",
            "Epoch 12/50\n",
            "2000/2000 [==============================] - 38s 19ms/step - loss: 1.6306 - accuracy: 0.3289 - val_loss: 1.5969 - val_accuracy: 0.3302\n",
            "Epoch 13/50\n",
            "2000/2000 [==============================] - 38s 19ms/step - loss: 1.6227 - accuracy: 0.3263 - val_loss: 1.5917 - val_accuracy: 0.3295\n",
            "Epoch 14/50\n",
            "2000/2000 [==============================] - 38s 19ms/step - loss: 1.6178 - accuracy: 0.3296 - val_loss: 1.5933 - val_accuracy: 0.3291\n",
            "Epoch 15/50\n",
            "2000/2000 [==============================] - 37s 19ms/step - loss: 1.6161 - accuracy: 0.3287 - val_loss: 1.5898 - val_accuracy: 0.3287\n",
            "Epoch 16/50\n",
            "2000/2000 [==============================] - 38s 19ms/step - loss: 1.6104 - accuracy: 0.3290 - val_loss: 1.5868 - val_accuracy: 0.3257\n",
            "Epoch 17/50\n",
            "2000/2000 [==============================] - 37s 18ms/step - loss: 1.6104 - accuracy: 0.3295 - val_loss: 1.5866 - val_accuracy: 0.3273\n",
            "Epoch 18/50\n",
            "2000/2000 [==============================] - 37s 18ms/step - loss: 1.6095 - accuracy: 0.3295 - val_loss: 1.5851 - val_accuracy: 0.3283\n",
            "Epoch 19/50\n",
            "2000/2000 [==============================] - 37s 19ms/step - loss: 1.6081 - accuracy: 0.3300 - val_loss: 1.5848 - val_accuracy: 0.3248\n",
            "Epoch 20/50\n",
            "2000/2000 [==============================] - 38s 19ms/step - loss: 1.6041 - accuracy: 0.3314 - val_loss: 1.5844 - val_accuracy: 0.3268\n",
            "Epoch 21/50\n",
            "2000/2000 [==============================] - 37s 19ms/step - loss: 1.6018 - accuracy: 0.3325 - val_loss: 1.5831 - val_accuracy: 0.3266\n",
            "Epoch 22/50\n",
            "2000/2000 [==============================] - 37s 18ms/step - loss: 1.6001 - accuracy: 0.3331 - val_loss: 1.5832 - val_accuracy: 0.3248\n",
            "Epoch 23/50\n",
            "2000/2000 [==============================] - 37s 19ms/step - loss: 1.5998 - accuracy: 0.3348 - val_loss: 1.5819 - val_accuracy: 0.3273\n",
            "Epoch 24/50\n",
            "2000/2000 [==============================] - 37s 19ms/step - loss: 1.5990 - accuracy: 0.3330 - val_loss: 1.5818 - val_accuracy: 0.3285\n",
            "Epoch 25/50\n",
            "2000/2000 [==============================] - 37s 18ms/step - loss: 1.5969 - accuracy: 0.3352 - val_loss: 1.5814 - val_accuracy: 0.3258\n",
            "Epoch 26/50\n",
            "2000/2000 [==============================] - 36s 18ms/step - loss: 1.5982 - accuracy: 0.3327 - val_loss: 1.5811 - val_accuracy: 0.3301\n",
            "Epoch 27/50\n",
            "2000/2000 [==============================] - 36s 18ms/step - loss: 1.5928 - accuracy: 0.3354 - val_loss: 1.5816 - val_accuracy: 0.3293\n",
            "Epoch 28/50\n",
            "2000/2000 [==============================] - 35s 18ms/step - loss: 1.5946 - accuracy: 0.3323 - val_loss: 1.5816 - val_accuracy: 0.3293\n",
            "Epoch 29/50\n",
            "2000/2000 [==============================] - 36s 18ms/step - loss: 1.5925 - accuracy: 0.3328 - val_loss: 1.5805 - val_accuracy: 0.3262\n",
            "Epoch 30/50\n",
            "2000/2000 [==============================] - 35s 18ms/step - loss: 1.5923 - accuracy: 0.3354 - val_loss: 1.5804 - val_accuracy: 0.3270\n",
            "Epoch 31/50\n",
            "2000/2000 [==============================] - 36s 18ms/step - loss: 1.5904 - accuracy: 0.3341 - val_loss: 1.5803 - val_accuracy: 0.3278\n",
            "Epoch 32/50\n",
            "2000/2000 [==============================] - 36s 18ms/step - loss: 1.5904 - accuracy: 0.3352 - val_loss: 1.5811 - val_accuracy: 0.3309\n",
            "Epoch 33/50\n",
            "2000/2000 [==============================] - 35s 18ms/step - loss: 1.5894 - accuracy: 0.3357 - val_loss: 1.5808 - val_accuracy: 0.3307\n",
            "Epoch 34/50\n",
            "2000/2000 [==============================] - 38s 19ms/step - loss: 1.5885 - accuracy: 0.3341 - val_loss: 1.5801 - val_accuracy: 0.3277\n",
            "Epoch 35/50\n",
            "2000/2000 [==============================] - 36s 18ms/step - loss: 1.5891 - accuracy: 0.3373 - val_loss: 1.5891 - val_accuracy: 0.3264\n",
            "Epoch 36/50\n",
            "2000/2000 [==============================] - 36s 18ms/step - loss: 1.5900 - accuracy: 0.3361 - val_loss: 1.5875 - val_accuracy: 0.3297\n",
            "Epoch 37/50\n",
            "2000/2000 [==============================] - 36s 18ms/step - loss: 1.5877 - accuracy: 0.3352 - val_loss: 1.5843 - val_accuracy: 0.3284\n",
            "Epoch 38/50\n",
            "2000/2000 [==============================] - 36s 18ms/step - loss: 1.5866 - accuracy: 0.3358 - val_loss: 1.5831 - val_accuracy: 0.3291\n",
            "Epoch 39/50\n",
            "2000/2000 [==============================] - 38s 19ms/step - loss: 1.5875 - accuracy: 0.3351 - val_loss: 1.5816 - val_accuracy: 0.3284\n",
            "Epoch 40/50\n",
            "2000/2000 [==============================] - 37s 19ms/step - loss: 1.5862 - accuracy: 0.3375 - val_loss: 1.5808 - val_accuracy: 0.3289\n",
            "Epoch 41/50\n",
            "2000/2000 [==============================] - 36s 18ms/step - loss: 1.5837 - accuracy: 0.3368 - val_loss: 1.5800 - val_accuracy: 0.3297\n",
            "Epoch 42/50\n",
            "2000/2000 [==============================] - 36s 18ms/step - loss: 1.5849 - accuracy: 0.3359 - val_loss: 1.5798 - val_accuracy: 0.3294\n",
            "Epoch 43/50\n",
            "2000/2000 [==============================] - 36s 18ms/step - loss: 1.5833 - accuracy: 0.3360 - val_loss: 1.5796 - val_accuracy: 0.3294\n",
            "Epoch 44/50\n",
            "2000/2000 [==============================] - 36s 18ms/step - loss: 1.5819 - accuracy: 0.3363 - val_loss: 1.5793 - val_accuracy: 0.3293\n",
            "Epoch 45/50\n",
            "2000/2000 [==============================] - 36s 18ms/step - loss: 1.5833 - accuracy: 0.3363 - val_loss: 1.5789 - val_accuracy: 0.3299\n",
            "Epoch 46/50\n",
            "2000/2000 [==============================] - 39s 19ms/step - loss: 1.5828 - accuracy: 0.3385 - val_loss: 1.5791 - val_accuracy: 0.3301\n",
            "Epoch 47/50\n",
            "2000/2000 [==============================] - 36s 18ms/step - loss: 1.5828 - accuracy: 0.3386 - val_loss: 1.5790 - val_accuracy: 0.3312\n",
            "Epoch 48/50\n",
            "2000/2000 [==============================] - 36s 18ms/step - loss: 1.5834 - accuracy: 0.3363 - val_loss: 1.5792 - val_accuracy: 0.3312\n",
            "Epoch 49/50\n",
            "2000/2000 [==============================] - 36s 18ms/step - loss: 1.5872 - accuracy: 0.3381 - val_loss: 1.5808 - val_accuracy: 0.3326\n",
            "Epoch 50/50\n",
            "2000/2000 [==============================] - 36s 18ms/step - loss: 1.5867 - accuracy: 0.3377 - val_loss: 1.5799 - val_accuracy: 0.3311\n"
          ]
        },
        {
          "data": {
            "application/vnd.google.colaboratory.intrinsic+json": {
              "type": "string"
            },
            "text/plain": [
              "'history = model.fit(X_train_pad, y_train,\\n                    validation_data = (X_val_pad, y_validation),\\n                    batch_size = 8,\\n                    epochs = 10,\\n                    callbacks = stop)'"
            ]
          },
          "execution_count": 26,
          "metadata": {},
          "output_type": "execute_result"
        }
      ],
      "source": [
        "history=model.fit(X_train_pad, y_train,\n",
        "                    validation_data = (X_val_pad, y_validation),\n",
        "                    batch_size = 32,\n",
        "                    epochs = 50)\n",
        "'''history = model.fit(X_train_pad, y_train,\n",
        "                    validation_data = (X_val_pad, y_validation),\n",
        "                    batch_size = 8,\n",
        "                    epochs = 10,\n",
        "                    callbacks = stop)'''"
      ]
    },
    {
      "cell_type": "code",
      "execution_count": null,
      "metadata": {
        "colab": {
          "background_save": true
        },
        "id": "s3IW8lBBbHG-",
        "outputId": "e0b78cd2-a0b8-49ab-cae0-4dec8f4962b3"
      },
      "outputs": [
        {
          "name": "stdout",
          "output_type": "stream",
          "text": [
            "625/625 [==============================] - 4s 6ms/step - loss: 1.5741 - accuracy: 0.3392\n"
          ]
        },
        {
          "data": {
            "text/plain": [
              "[1.5740712881088257, 0.33915001153945923]"
            ]
          },
          "execution_count": 27,
          "metadata": {},
          "output_type": "execute_result"
        }
      ],
      "source": [
        "model.evaluate(X_test_pad, y_test)"
      ]
    },
    {
      "cell_type": "code",
      "execution_count": null,
      "metadata": {
        "colab": {
          "background_save": true
        },
        "id": "L39Jjl17lPlH"
      },
      "outputs": [],
      "source": []
    },
    {
      "cell_type": "code",
      "execution_count": null,
      "metadata": {
        "colab": {
          "background_save": true
        },
        "id": "x2HmV-rulOTu"
      },
      "outputs": [],
      "source": [
        "def plot_history(history):\n",
        "    '''\n",
        "    Plots training and validation accuracy and loss\n",
        "    Accepts a single param - history, where\n",
        "    history - keras.callbacks.History object\n",
        "    Returns nothing\n",
        "\n",
        "    '''\n",
        "    loss = history.history['loss']\n",
        "    accuracy = history.history['accuracy']\n",
        "    val_loss = history.history['val_loss']\n",
        "    val_accuracy = history.history['val_accuracy']\n",
        "    x = range(1, len(loss) + 1)\n",
        "\n",
        "    plt.figure(figsize=(12, 5))\n",
        "    plt.subplot(1, 2, 1)\n",
        "    plt.plot(x, accuracy, label='Training acc', color='#707bfb')\n",
        "    plt.plot(x, val_accuracy, label='Validation acc', color='#fbcbff')\n",
        "    plt.title('Training and validation accuracy')\n",
        "    plt.grid(True)\n",
        "    plt.legend()\n",
        "\n",
        "    plt.subplot(1, 2, 2)\n",
        "    plt.plot(x, loss, label='Training loss', color='#707bfb')\n",
        "    plt.plot(x, val_loss, label='Validation loss', color='#fbcbff')\n",
        "    plt.title('Training and validation loss')\n",
        "    plt.grid(True)\n",
        "    plt.legend()"
      ]
    },
    {
      "cell_type": "code",
      "execution_count": null,
      "metadata": {
        "colab": {
          "background_save": true
        },
        "id": "tbtw6BCD0aqh",
        "outputId": "09083e13-0bd7-4f1d-da8e-363dd1c244d0"
      },
      "outputs": [
        {
          "data": {
            "image/png": "[encoded data removed]",
            "text/plain": [
              "<Figure size 1200x500 with 2 Axes>"
            ]
          },
          "metadata": {},
          "output_type": "display_data"
        }
      ],
      "source": [
        "plot_history(history)"
      ]
    },
    {
      "cell_type": "code",
      "execution_count": null,
      "metadata": {
        "colab": {
          "background_save": true
        },
        "id": "kzFXIRhKlWyr",
        "outputId": "d2677467-4d96-44d4-c004-958804645a74"
      },
      "outputs": [
        {
          "name": "stdout",
          "output_type": "stream",
          "text": [
            "625/625 [==============================] - 4s 6ms/step - loss: 1.0680 - accuracy: 0.5939\n",
            "625/625 [==============================] - 6s 7ms/step\n",
            "              precision    recall  f1-score   support\n",
            "\n",
            "           0       0.00      0.00      0.00      2709\n",
            "           1       0.46      0.10      0.16      1641\n",
            "           2       0.29      0.04      0.07      2373\n",
            "           3       0.83      0.88      0.85      6761\n",
            "           4       0.47      0.97      0.63      5797\n",
            "           5       0.00      0.00      0.00       719\n",
            "\n",
            "    accuracy                           0.59     20000\n",
            "   macro avg       0.34      0.33      0.29     20000\n",
            "weighted avg       0.49      0.59      0.49     20000\n",
            "\n"
          ]
        },
        {
          "name": "stderr",
          "output_type": "stream",
          "text": [
            "/usr/local/lib/python3.10/dist-packages/sklearn/metrics/_classification.py:1344: UndefinedMetricWarning: Precision and F-score are ill-defined and being set to 0.0 in labels with no predicted samples. Use `zero_division` parameter to control this behavior.\n",
            "  _warn_prf(average, modifier, msg_start, len(result))\n",
            "/usr/local/lib/python3.10/dist-packages/sklearn/metrics/_classification.py:1344: UndefinedMetricWarning: Precision and F-score are ill-defined and being set to 0.0 in labels with no predicted samples. Use `zero_division` parameter to control this behavior.\n",
            "  _warn_prf(average, modifier, msg_start, len(result))\n",
            "/usr/local/lib/python3.10/dist-packages/sklearn/metrics/_classification.py:1344: UndefinedMetricWarning: Precision and F-score are ill-defined and being set to 0.0 in labels with no predicted samples. Use `zero_division` parameter to control this behavior.\n",
            "  _warn_prf(average, modifier, msg_start, len(result))\n"
          ]
        }
      ],
      "source": [
        "model.evaluate(X_test_pad, y_test)\n",
        "y_pred = np.argmax(model.predict(X_test_pad), axis=1)\n",
        "from sklearn import metrics\n",
        "print(metrics.classification_report(y_test, y_pred))"
      ]
    },
    {
      "cell_type": "code",
      "execution_count": null,
      "metadata": {
        "colab": {
          "background_save": true
        },
        "id": "Yn0dqZXMmjxz"
      },
      "outputs": [],
      "source": [
        "# setting a custom colormap\n",
        "from matplotlib.colors import LinearSegmentedColormap\n",
        "colors = ['#ffffff', '#fbcbff', '#707bfb']\n",
        "cmap = LinearSegmentedColormap.from_list('mycmap', colors)"
      ]
    },
    {
      "cell_type": "code",
      "execution_count": null,
      "metadata": {
        "colab": {
          "background_save": true
        },
        "id": "Bz-3Bsl8mkZQ"
      },
      "outputs": [],
      "source": [
        "def plot_confusion_matrix(matrix, fmt=''):\n",
        "  '''\n",
        "  Accepts a confusion matrix and a format param\n",
        "  Plots the matrix as a heatmap\n",
        "  Returns nothing\n",
        "\n",
        "  '''\n",
        "  plt.figure(figsize=(6, 5))\n",
        "  sns.heatmap(matrix, annot=True,\n",
        "              cmap=cmap,\n",
        "              fmt=fmt,\n",
        "              xticklabels=emotions_to_labels.keys(),\n",
        "              yticklabels=emotions_to_labels.keys())\n",
        "  plt.ylabel('True labels')\n",
        "  plt.xlabel('Predicted labels')\n",
        "  plt.show()"
      ]
    },
    {
      "cell_type": "code",
      "execution_count": null,
      "metadata": {
        "colab": {
          "background_save": true
        },
        "id": "dHmiabe5mqu8",
        "outputId": "e109150b-0860-47db-c9df-63e22e0c6097"
      },
      "outputs": [
        {
          "data": {
            "image/png": "[encoded data removed]",
            "text/plain": [
              "<Figure size 600x500 with 2 Axes>"
            ]
          },
          "metadata": {},
          "output_type": "display_data"
        }
      ],
      "source": [
        "matrix = metrics.confusion_matrix(y_test, y_pred)\n",
        "plot_confusion_matrix(matrix)"
      ]
    },
    {
      "cell_type": "code",
      "execution_count": null,
      "metadata": {
        "colab": {
          "background_save": true
        },
        "id": "FcBx5ahLmuEG",
        "outputId": "8c5f73be-2303-4393-e429-1d5d2363ea44"
      },
      "outputs": [
        {
          "data": {
            "image/png": "[encoded data removed]",
            "text/plain": [
              "<Figure size 600x500 with 2 Axes>"
            ]
          },
          "metadata": {},
          "output_type": "display_data"
        }
      ],
      "source": [
        "# create new confusion matrix\n",
        "# where values are normed by row\n",
        "matrix_new = np.zeros(matrix.shape)\n",
        "\n",
        "for row in range(len(matrix)):\n",
        "  sum = np.sum(matrix[row])\n",
        "  for element in range(len(matrix[row])):\n",
        "    matrix_new[row][element] = matrix[row][element] / sum\n",
        "\n",
        "plot_confusion_matrix(matrix_new, fmt='.2')"
      ]
    },
    {
      "cell_type": "code",
      "execution_count": null,
      "metadata": {
        "colab": {
          "background_save": true
        },
        "id": "FEldcTlTm0Qb"
      },
      "outputs": [],
      "source": [
        "def predict(texts):\n",
        "  '''\n",
        "  Accepts array if texts (strings)\n",
        "  Prints sentence and the corresponding label (emotion)\n",
        "  Returns nothing\n",
        "\n",
        "  '''\n",
        "  texts_prepr = [text_preprocess(t) for t in texts]\n",
        "  sequences = tokenizer.texts_to_sequences(texts_prepr)\n",
        "  pad = pad_sequences(sequences, maxlen=MAX_LEN)\n",
        "\n",
        "  predictions = model.predict(pad)\n",
        "  labels = np.argmax(predictions, axis=1)\n",
        "\n",
        "  for i, lbl in enumerate(labels):\n",
        "    print(f'\\'{texts[i]}\\' --> {labels_to_emotions[lbl]}')"
      ]
    },
    {
      "cell_type": "code",
      "execution_count": null,
      "metadata": {
        "colab": {
          "background_save": true
        },
        "id": "XNlVgJVqm2rX"
      },
      "outputs": [],
      "source": [
        "test_texts = ['I am so happy in the way you behaved today', 'The man felt lonely', 'The guests felt satisfied']\n",
        "\n",
        "predict(test_texts)"
      ]
    }
  ],
  "metadata": {
    "accelerator": "GPU",
    "colab": {
      "provenance": []
    },
    "kernelspec": {
      "display_name": "Python 3",
      "name": "python3"
    },
    "language_info": {
      "name": "python"
    }
  },
  "nbformat": 4,
  "nbformat_minor": 0
}